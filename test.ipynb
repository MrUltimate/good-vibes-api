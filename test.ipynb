{
 "cells": [
  {
   "cell_type": "code",
   "execution_count": 1,
   "metadata": {
    "tags": []
   },
   "outputs": [
    {
     "output_type": "stream",
     "name": "stdout",
     "text": "Synchronous\nhttp://www.baltimorenews.net/index.php/sid/234363921\nhttp://www.baltimorenews.net/index.php/sid/234323971\nhttp://www.atlantanews.net/index.php/sid/234323891\nhttp://www.wpbf.com/news/funeral-held-for-gabby-desouza/33874572\nhttp://www.tennessean.com/story/news/politics/2015/06/30/obama-focus-future-health-care-burwell-says/29540753/\nhttp://www.atlantanews.net/index.php/sid/234323901\nhttp://www.baltimorenews.net/index.php/sid/234323975\nhttp://www.utsandiego.com/news/2015/jun/30/backcountry-lilac-development-opposition-general/\nhttp://www.newsnet5.com/newsy/apples-ebook-pricing-scandal-a-long-road-to-a-small-fine\nhttp://www.baltimorenews.net/index.php/sid/234323977\nhttp://www.wsmv.com/story/29447077/trying-to-make-hitting-skid-disappear-maddon-hires-magician\nhttp://www.atlantanews.net/index.php/sid/234323913\nhttp://www.baltimorenews.net/index.php/sid/234323979\nhttp://www.newsleader.com/story/sports/2015/06/30/virginia-baseball-fan-happy-proven-wrong/29540965/\nhttp://www.baltimorenews.net/index.php/sid/234323981\nhttp://www.baltimorenews.net/index.php/sid/234323987\nhttp://www.mcall.com/entertainment/dining/mc-fratzolas-pizzeria-bethlehem-review-20150630-story.html\nhttp://www.atlantanews.net/index.php/sid/234323911\nhttp://www.baltimorenews.net/index.php/sid/234323985\nhttp://www.atlantanews.net/index.php/sid/234323887\nhttp://wtvr.com/2015/06/30/man-who-vandalized-confederate-statue-deeply-regrets-actions/\nhttp://www.baltimorenews.net/index.php/sid/234323923\nhttp://www.witn.com/home/headlines/Goldsboro-teens-charged-with-shooting-into-home-311067541.html\nhttp://www.atlantanews.net/index.php/sid/234323995\nsync 3.2843568325042725 \n\n"
    }
   ],
   "source": [
    "urls = [\n",
    "    'http://www.baltimorenews.net/index.php/sid/234363921',\n",
    "    'http://www.baltimorenews.net/index.php/sid/234323971',\n",
    "    'http://www.atlantanews.net/index.php/sid/234323891',\n",
    "    'http://www.wpbf.com/news/funeral-held-for-gabby-desouza/33874572',\n",
    "    'http://www.tennessean.com/story/news/politics/2015/06/30/obama-focus-future-health-care-burwell-says/29540753/',\n",
    "    'http://www.atlantanews.net/index.php/sid/234323901',\n",
    "    'http://www.baltimorenews.net/index.php/sid/234323975',\n",
    "    'http://www.utsandiego.com/news/2015/jun/30/backcountry-lilac-development-opposition-general/',\n",
    "    'http://www.newsnet5.com/newsy/apples-ebook-pricing-scandal-a-long-road-to-a-small-fine',\n",
    "    'http://www.baltimorenews.net/index.php/sid/234323977',\n",
    "    'http://www.wsmv.com/story/29447077/trying-to-make-hitting-skid-disappear-maddon-hires-magician',\n",
    "    'http://www.atlantanews.net/index.php/sid/234323913',\n",
    "    'http://www.baltimorenews.net/index.php/sid/234323979',\n",
    "    'http://www.newsleader.com/story/sports/2015/06/30/virginia-baseball-fan-happy-proven-wrong/29540965/',\n",
    "    'http://www.baltimorenews.net/index.php/sid/234323981',\n",
    "    'http://www.baltimorenews.net/index.php/sid/234323987',\n",
    "    'http://www.mcall.com/entertainment/dining/mc-fratzolas-pizzeria-bethlehem-review-20150630-story.html',\n",
    "    'http://www.atlantanews.net/index.php/sid/234323911',\n",
    "    'http://www.baltimorenews.net/index.php/sid/234323985',\n",
    "    'http://www.atlantanews.net/index.php/sid/234323887',\n",
    "    'http://wtvr.com/2015/06/30/man-who-vandalized-confederate-statue-deeply-regrets-actions/',\n",
    "    'http://www.baltimorenews.net/index.php/sid/234323923',\n",
    "    'http://www.witn.com/home/headlines/Goldsboro-teens-charged-with-shooting-into-home-311067541.html',\n",
    "    'http://www.atlantanews.net/index.php/sid/234323995'\n",
    "]\n",
    "\n",
    "# ---------------------------------------------------------------- #\n",
    "\n",
    "print(\"Synchronous\")\n",
    "\n",
    "import time, newspaper, hashlib\n",
    "\n",
    "start_time = time.time()\n",
    "\n",
    "for url in urls:\n",
    "    print(url)\n",
    "    article = newspaper.Article(url)\n",
    "    try:\n",
    "        article.download()\n",
    "        article.parse()\n",
    "    except newspaper.article.ArticleException:\n",
    "        continue\n",
    "\n",
    "    with open(hashlib.md5(url.encode('utf-8')).hexdigest() + \".txt\", \"w\") as f:\n",
    "        f.write(article.text)\n",
    "\n",
    "print(\"sync\", time.time() - start_time, \"\\n\")"
   ]
  },
  {
   "cell_type": "code",
   "execution_count": null,
   "metadata": {},
   "outputs": [],
   "source": []
  }
 ],
 "metadata": {
  "language_info": {
   "codemirror_mode": {
    "name": "ipython",
    "version": 3
   },
   "file_extension": ".py",
   "mimetype": "text/x-python",
   "name": "python",
   "nbconvert_exporter": "python",
   "pygments_lexer": "ipython3",
   "version": 3
  },
  "orig_nbformat": 2,
  "kernelspec": {
   "name": "python_defaultSpec_1594325992975",
   "display_name": "Python 3.7.3 64-bit ('env': venv)"
  }
 },
 "nbformat": 4,
 "nbformat_minor": 2
}